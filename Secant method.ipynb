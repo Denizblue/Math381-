{
 "cells": [
  {
   "cell_type": "code",
   "execution_count": 2,
   "metadata": {},
   "outputs": [],
   "source": [
    "import math as m # not needed\n",
    "import pandas as pd"
   ]
  },
  {
   "cell_type": "code",
   "execution_count": 33,
   "metadata": {},
   "outputs": [],
   "source": [
    "x_0 = float(input(\"Initial guess 1:\"))\n",
    "x_1 = float(input(\"Initial guess 2:\"))\n",
    "e_b = float(eval(input(\"Error bound:\")))"
   ]
  },
  {
   "cell_type": "code",
   "execution_count": 4,
   "metadata": {},
   "outputs": [],
   "source": [
    "def f(x):\n",
    "    return x**6 - x - 1"
   ]
  },
  {
   "cell_type": "code",
   "execution_count": 29,
   "metadata": {},
   "outputs": [],
   "source": [
    "def sec_mtd(x_0, x_1, e_b):\n",
    "            \n",
    "        data = [[0, x_0, f(x_0), \"No value\", \"No value\"], [1, x_1, f(x_1), x_1 - x_0, \"Ignore\"]]\n",
    "\n",
    "        x_n = x_1 # x_now\n",
    "        x_b = x_0 # x_before\n",
    "        x_a = x_n - f(x_n)*(x_n - x_b)/(f(x_n) - f(x_b)) # x_after\n",
    "        i = 1\n",
    "\n",
    "        while abs(x_a - x_n) > e_b:\n",
    "                x_after = x_a\n",
    "\n",
    "                x_a = x_a - f(x_a)*(x_a - x_n)/(f(x_a)- f(x_n))     \n",
    "                x_b = x_n\n",
    "                x_n = x_after\n",
    "\n",
    "                #print(x_a, x_n)\n",
    "                i += 1\n",
    "                data.append([i, x_n, f(x_n), x_n-x_b, x_a-x_n])\n",
    "\n",
    "        return pd.DataFrame(data)"
   ]
  },
  {
   "cell_type": "code",
   "execution_count": 27,
   "metadata": {},
   "outputs": [],
   "source": [
    "def clean_df(df):\n",
    "    df.rename(columns={0: \"Iteration\", 1: \"x_n\", 2: \"f(x_n)\", 3: \"x_n - x_n-1\", 4: \"x_n+1 - x_n\"}, inplace=True)\n",
    "    df.set_index(\"Iteration\", inplace= True)\n",
    "\n",
    "    return df.head(15)"
   ]
  },
  {
   "cell_type": "code",
   "execution_count": 34,
   "metadata": {},
   "outputs": [
    {
     "data": {
      "text/html": [
       "<div>\n",
       "<style scoped>\n",
       "    .dataframe tbody tr th:only-of-type {\n",
       "        vertical-align: middle;\n",
       "    }\n",
       "\n",
       "    .dataframe tbody tr th {\n",
       "        vertical-align: top;\n",
       "    }\n",
       "\n",
       "    .dataframe thead th {\n",
       "        text-align: right;\n",
       "    }\n",
       "</style>\n",
       "<table border=\"1\" class=\"dataframe\">\n",
       "  <thead>\n",
       "    <tr style=\"text-align: right;\">\n",
       "      <th></th>\n",
       "      <th>x_n</th>\n",
       "      <th>f(x_n)</th>\n",
       "      <th>x_n - x_n-1</th>\n",
       "      <th>x_n+1 - x_n</th>\n",
       "    </tr>\n",
       "    <tr>\n",
       "      <th>Iteration</th>\n",
       "      <th></th>\n",
       "      <th></th>\n",
       "      <th></th>\n",
       "      <th></th>\n",
       "    </tr>\n",
       "  </thead>\n",
       "  <tbody>\n",
       "    <tr>\n",
       "      <th>0</th>\n",
       "      <td>2.000000</td>\n",
       "      <td>6.100000e+01</td>\n",
       "      <td>No value</td>\n",
       "      <td>No value</td>\n",
       "    </tr>\n",
       "    <tr>\n",
       "      <th>1</th>\n",
       "      <td>1.000000</td>\n",
       "      <td>-1.000000e+00</td>\n",
       "      <td>-1.0</td>\n",
       "      <td>Ignore</td>\n",
       "    </tr>\n",
       "    <tr>\n",
       "      <th>2</th>\n",
       "      <td>1.016129</td>\n",
       "      <td>-9.153677e-01</td>\n",
       "      <td>0.016129</td>\n",
       "      <td>0.174449</td>\n",
       "    </tr>\n",
       "    <tr>\n",
       "      <th>3</th>\n",
       "      <td>1.190578</td>\n",
       "      <td>6.574657e-01</td>\n",
       "      <td>0.174449</td>\n",
       "      <td>-0.072922</td>\n",
       "    </tr>\n",
       "    <tr>\n",
       "      <th>4</th>\n",
       "      <td>1.117656</td>\n",
       "      <td>-1.684912e-01</td>\n",
       "      <td>-0.072922</td>\n",
       "      <td>0.014876</td>\n",
       "    </tr>\n",
       "    <tr>\n",
       "      <th>5</th>\n",
       "      <td>1.132532</td>\n",
       "      <td>-2.243729e-02</td>\n",
       "      <td>0.014876</td>\n",
       "      <td>0.002285</td>\n",
       "    </tr>\n",
       "    <tr>\n",
       "      <th>6</th>\n",
       "      <td>1.134817</td>\n",
       "      <td>9.535641e-04</td>\n",
       "      <td>0.002285</td>\n",
       "      <td>-0.000093</td>\n",
       "    </tr>\n",
       "    <tr>\n",
       "      <th>7</th>\n",
       "      <td>1.134724</td>\n",
       "      <td>-5.066166e-06</td>\n",
       "      <td>-0.000093</td>\n",
       "      <td>0.0</td>\n",
       "    </tr>\n",
       "    <tr>\n",
       "      <th>8</th>\n",
       "      <td>1.134724</td>\n",
       "      <td>-1.134763e-09</td>\n",
       "      <td>0.0</td>\n",
       "      <td>0.0</td>\n",
       "    </tr>\n",
       "  </tbody>\n",
       "</table>\n",
       "</div>"
      ],
      "text/plain": [
       "                x_n        f(x_n) x_n - x_n-1 x_n+1 - x_n\n",
       "Iteration                                                \n",
       "0          2.000000  6.100000e+01    No value    No value\n",
       "1          1.000000 -1.000000e+00        -1.0      Ignore\n",
       "2          1.016129 -9.153677e-01    0.016129    0.174449\n",
       "3          1.190578  6.574657e-01    0.174449   -0.072922\n",
       "4          1.117656 -1.684912e-01   -0.072922    0.014876\n",
       "5          1.132532 -2.243729e-02    0.014876    0.002285\n",
       "6          1.134817  9.535641e-04    0.002285   -0.000093\n",
       "7          1.134724 -5.066166e-06   -0.000093         0.0\n",
       "8          1.134724 -1.134763e-09         0.0         0.0"
      ]
     },
     "execution_count": 34,
     "metadata": {},
     "output_type": "execute_result"
    }
   ],
   "source": [
    "clean_df( sec_mtd(x_0, x_1, e_b) )"
   ]
  }
 ],
 "metadata": {
  "kernelspec": {
   "display_name": "Python 3",
   "language": "python",
   "name": "python3"
  },
  "language_info": {
   "codemirror_mode": {
    "name": "ipython",
    "version": 3
   },
   "file_extension": ".py",
   "mimetype": "text/x-python",
   "name": "python",
   "nbconvert_exporter": "python",
   "pygments_lexer": "ipython3",
   "version": "3.13.0"
  }
 },
 "nbformat": 4,
 "nbformat_minor": 2
}
